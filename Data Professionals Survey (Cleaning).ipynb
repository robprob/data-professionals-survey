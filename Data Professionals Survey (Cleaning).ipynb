{
 "cells": [
  {
   "cell_type": "markdown",
   "id": "1920796a-e7c4-4739-9aa1-5e7ef3ee523b",
   "metadata": {},
   "source": [
    "# Data Professional Survey (Cleaning)"
   ]
  },
  {
   "cell_type": "code",
   "execution_count": 1084,
   "id": "fb56a965-82a8-4c56-ad15-ba6182ad343c",
   "metadata": {},
   "outputs": [],
   "source": [
    "import pandas as pd"
   ]
  },
  {
   "cell_type": "markdown",
   "id": "6a8adc19-c5fb-4ee5-b0e2-ae0d1f391b81",
   "metadata": {},
   "source": [
    "## Load data"
   ]
  },
  {
   "cell_type": "code",
   "execution_count": 1086,
   "id": "e71b5f88-8681-4946-a1ae-08c1c7f6832b",
   "metadata": {},
   "outputs": [],
   "source": [
    "# specify file path of excel file\n",
    "file_path = 'D:/Documents/Data Analysis/Datasets/Alex the Analyst/Power BI - Final Project.xlsx/'"
   ]
  },
  {
   "cell_type": "code",
   "execution_count": 1087,
   "id": "24b673bd-679d-4f4c-9aad-eb5f32ded4f6",
   "metadata": {},
   "outputs": [],
   "source": [
    "# read in .xlsx as df\n",
    "survey = pd.read_excel(file_path)"
   ]
  },
  {
   "cell_type": "code",
   "execution_count": 1088,
   "id": "8cbfbd62-b1f3-427c-9be0-cffe623f9d0e",
   "metadata": {},
   "outputs": [
    {
     "data": {
      "text/html": [
       "<div>\n",
       "<style scoped>\n",
       "    .dataframe tbody tr th:only-of-type {\n",
       "        vertical-align: middle;\n",
       "    }\n",
       "\n",
       "    .dataframe tbody tr th {\n",
       "        vertical-align: top;\n",
       "    }\n",
       "\n",
       "    .dataframe thead th {\n",
       "        text-align: right;\n",
       "    }\n",
       "</style>\n",
       "<table border=\"1\" class=\"dataframe\">\n",
       "  <thead>\n",
       "    <tr style=\"text-align: right;\">\n",
       "      <th></th>\n",
       "      <th>Unique ID</th>\n",
       "      <th>Email</th>\n",
       "      <th>Date Taken (America/New_York)</th>\n",
       "      <th>Time Taken (America/New_York)</th>\n",
       "      <th>Browser</th>\n",
       "      <th>OS</th>\n",
       "      <th>City</th>\n",
       "      <th>Country</th>\n",
       "      <th>Referrer</th>\n",
       "      <th>Time Spent</th>\n",
       "      <th>...</th>\n",
       "      <th>Q6 - How Happy are you in your Current Position with the following? (Management)</th>\n",
       "      <th>Q6 - How Happy are you in your Current Position with the following? (Upward Mobility)</th>\n",
       "      <th>Q6 - How Happy are you in your Current Position with the following? (Learning New Things)</th>\n",
       "      <th>Q7 - How difficult was it for you to break into Data?</th>\n",
       "      <th>Q8 - If you were to look for a new job today, what would be the most important thing to you?</th>\n",
       "      <th>Q9 - Male/Female?</th>\n",
       "      <th>Q10 - Current Age</th>\n",
       "      <th>Q11 - Which Country do you live in?</th>\n",
       "      <th>Q12 - Highest Level of Education</th>\n",
       "      <th>Q13 - Ethnicity</th>\n",
       "    </tr>\n",
       "  </thead>\n",
       "  <tbody>\n",
       "    <tr>\n",
       "      <th>0</th>\n",
       "      <td>62a33b3db4da29969c62df3d</td>\n",
       "      <td>anonymous</td>\n",
       "      <td>6/10/2022</td>\n",
       "      <td>8:38</td>\n",
       "      <td>NaN</td>\n",
       "      <td>NaN</td>\n",
       "      <td>NaN</td>\n",
       "      <td>NaN</td>\n",
       "      <td>NaN</td>\n",
       "      <td>0:00:44</td>\n",
       "      <td>...</td>\n",
       "      <td>5.0</td>\n",
       "      <td>5.0</td>\n",
       "      <td>7.0</td>\n",
       "      <td>Very Difficult</td>\n",
       "      <td>Remote Work</td>\n",
       "      <td>Male</td>\n",
       "      <td>26</td>\n",
       "      <td>United States</td>\n",
       "      <td>NaN</td>\n",
       "      <td>White or Caucasian</td>\n",
       "    </tr>\n",
       "    <tr>\n",
       "      <th>1</th>\n",
       "      <td>62a33ba1bae91e4b8b82e35c</td>\n",
       "      <td>anonymous</td>\n",
       "      <td>6/10/2022</td>\n",
       "      <td>8:40</td>\n",
       "      <td>NaN</td>\n",
       "      <td>NaN</td>\n",
       "      <td>NaN</td>\n",
       "      <td>NaN</td>\n",
       "      <td>NaN</td>\n",
       "      <td>0:01:30</td>\n",
       "      <td>...</td>\n",
       "      <td>2.0</td>\n",
       "      <td>1.0</td>\n",
       "      <td>3.0</td>\n",
       "      <td>Very Difficult</td>\n",
       "      <td>Remote Work</td>\n",
       "      <td>Male</td>\n",
       "      <td>36</td>\n",
       "      <td>Canada</td>\n",
       "      <td>NaN</td>\n",
       "      <td>Asian or Asian American</td>\n",
       "    </tr>\n",
       "    <tr>\n",
       "      <th>2</th>\n",
       "      <td>62a33c2cbc6861bf3176bec1</td>\n",
       "      <td>anonymous</td>\n",
       "      <td>6/10/2022</td>\n",
       "      <td>8:42</td>\n",
       "      <td>NaN</td>\n",
       "      <td>NaN</td>\n",
       "      <td>NaN</td>\n",
       "      <td>NaN</td>\n",
       "      <td>NaN</td>\n",
       "      <td>0:02:18</td>\n",
       "      <td>...</td>\n",
       "      <td>5.0</td>\n",
       "      <td>7.0</td>\n",
       "      <td>7.0</td>\n",
       "      <td>Easy</td>\n",
       "      <td>Good Work/Life Balance</td>\n",
       "      <td>Male</td>\n",
       "      <td>23</td>\n",
       "      <td>Other (Please Specify):Nigeria</td>\n",
       "      <td>NaN</td>\n",
       "      <td>Black or African American</td>\n",
       "    </tr>\n",
       "    <tr>\n",
       "      <th>3</th>\n",
       "      <td>62a33c8624a26260273822f9</td>\n",
       "      <td>anonymous</td>\n",
       "      <td>6/10/2022</td>\n",
       "      <td>8:43</td>\n",
       "      <td>NaN</td>\n",
       "      <td>NaN</td>\n",
       "      <td>NaN</td>\n",
       "      <td>NaN</td>\n",
       "      <td>NaN</td>\n",
       "      <td>0:02:10</td>\n",
       "      <td>...</td>\n",
       "      <td>10.0</td>\n",
       "      <td>7.0</td>\n",
       "      <td>10.0</td>\n",
       "      <td>Very Easy</td>\n",
       "      <td>Remote Work</td>\n",
       "      <td>Female</td>\n",
       "      <td>35</td>\n",
       "      <td>Canada</td>\n",
       "      <td>NaN</td>\n",
       "      <td>White or Caucasian</td>\n",
       "    </tr>\n",
       "    <tr>\n",
       "      <th>4</th>\n",
       "      <td>62a33c91f3072dd892621e03</td>\n",
       "      <td>anonymous</td>\n",
       "      <td>6/10/2022</td>\n",
       "      <td>8:44</td>\n",
       "      <td>NaN</td>\n",
       "      <td>NaN</td>\n",
       "      <td>NaN</td>\n",
       "      <td>NaN</td>\n",
       "      <td>NaN</td>\n",
       "      <td>0:01:51</td>\n",
       "      <td>...</td>\n",
       "      <td>4.0</td>\n",
       "      <td>0.0</td>\n",
       "      <td>1.0</td>\n",
       "      <td>Difficult</td>\n",
       "      <td>Better Salary</td>\n",
       "      <td>Male</td>\n",
       "      <td>44</td>\n",
       "      <td>United States</td>\n",
       "      <td>NaN</td>\n",
       "      <td>Black or African American</td>\n",
       "    </tr>\n",
       "  </tbody>\n",
       "</table>\n",
       "<p>5 rows × 28 columns</p>\n",
       "</div>"
      ],
      "text/plain": [
       "                  Unique ID      Email Date Taken (America/New_York)  \\\n",
       "0  62a33b3db4da29969c62df3d  anonymous                     6/10/2022   \n",
       "1  62a33ba1bae91e4b8b82e35c  anonymous                     6/10/2022   \n",
       "2  62a33c2cbc6861bf3176bec1  anonymous                     6/10/2022   \n",
       "3  62a33c8624a26260273822f9  anonymous                     6/10/2022   \n",
       "4  62a33c91f3072dd892621e03  anonymous                     6/10/2022   \n",
       "\n",
       "  Time Taken (America/New_York)  Browser  OS  City  Country  Referrer  \\\n",
       "0                          8:38      NaN NaN   NaN      NaN       NaN   \n",
       "1                          8:40      NaN NaN   NaN      NaN       NaN   \n",
       "2                          8:42      NaN NaN   NaN      NaN       NaN   \n",
       "3                          8:43      NaN NaN   NaN      NaN       NaN   \n",
       "4                          8:44      NaN NaN   NaN      NaN       NaN   \n",
       "\n",
       "  Time Spent  ...  \\\n",
       "0    0:00:44  ...   \n",
       "1    0:01:30  ...   \n",
       "2    0:02:18  ...   \n",
       "3    0:02:10  ...   \n",
       "4    0:01:51  ...   \n",
       "\n",
       "  Q6 - How Happy are you in your Current Position with the following? (Management)  \\\n",
       "0                                                5.0                                 \n",
       "1                                                2.0                                 \n",
       "2                                                5.0                                 \n",
       "3                                               10.0                                 \n",
       "4                                                4.0                                 \n",
       "\n",
       "  Q6 - How Happy are you in your Current Position with the following? (Upward Mobility)  \\\n",
       "0                                                5.0                                      \n",
       "1                                                1.0                                      \n",
       "2                                                7.0                                      \n",
       "3                                                7.0                                      \n",
       "4                                                0.0                                      \n",
       "\n",
       "  Q6 - How Happy are you in your Current Position with the following? (Learning New Things)  \\\n",
       "0                                                7.0                                          \n",
       "1                                                3.0                                          \n",
       "2                                                7.0                                          \n",
       "3                                               10.0                                          \n",
       "4                                                1.0                                          \n",
       "\n",
       "  Q7 - How difficult was it for you to break into Data?  \\\n",
       "0                                     Very Difficult      \n",
       "1                                     Very Difficult      \n",
       "2                                               Easy      \n",
       "3                                          Very Easy      \n",
       "4                                          Difficult      \n",
       "\n",
       "  Q8 - If you were to look for a new job today, what would be the most important thing to you?  \\\n",
       "0                                        Remote Work                                             \n",
       "1                                        Remote Work                                             \n",
       "2                             Good Work/Life Balance                                             \n",
       "3                                        Remote Work                                             \n",
       "4                                      Better Salary                                             \n",
       "\n",
       "   Q9 - Male/Female?  Q10 - Current Age  Q11 - Which Country do you live in?  \\\n",
       "0               Male                 26                        United States   \n",
       "1               Male                 36                               Canada   \n",
       "2               Male                 23       Other (Please Specify):Nigeria   \n",
       "3             Female                 35                               Canada   \n",
       "4               Male                 44                        United States   \n",
       "\n",
       "   Q12 - Highest Level of Education            Q13 - Ethnicity  \n",
       "0                               NaN         White or Caucasian  \n",
       "1                               NaN    Asian or Asian American  \n",
       "2                               NaN  Black or African American  \n",
       "3                               NaN         White or Caucasian  \n",
       "4                               NaN  Black or African American  \n",
       "\n",
       "[5 rows x 28 columns]"
      ]
     },
     "execution_count": 1088,
     "metadata": {},
     "output_type": "execute_result"
    }
   ],
   "source": [
    "survey.head()"
   ]
  },
  {
   "cell_type": "markdown",
   "id": "924e5fb8-6bc7-41f6-8669-81dd9fc42495",
   "metadata": {},
   "source": [
    "## Validation and Cleaning"
   ]
  },
  {
   "cell_type": "code",
   "execution_count": 1090,
   "id": "a3967489-72c1-4b11-b603-4e66ca929e6a",
   "metadata": {},
   "outputs": [
    {
     "name": "stdout",
     "output_type": "stream",
     "text": [
      "<class 'pandas.core.frame.DataFrame'>\n",
      "RangeIndex: 630 entries, 0 to 629\n",
      "Data columns (total 28 columns):\n",
      " #   Column                                                                                        Non-Null Count  Dtype  \n",
      "---  ------                                                                                        --------------  -----  \n",
      " 0   Unique ID                                                                                     630 non-null    object \n",
      " 1   Email                                                                                         630 non-null    object \n",
      " 2   Date Taken (America/New_York)                                                                 630 non-null    object \n",
      " 3   Time Taken (America/New_York)                                                                 630 non-null    object \n",
      " 4   Browser                                                                                       0 non-null      float64\n",
      " 5   OS                                                                                            0 non-null      float64\n",
      " 6   City                                                                                          0 non-null      float64\n",
      " 7   Country                                                                                       0 non-null      float64\n",
      " 8   Referrer                                                                                      0 non-null      float64\n",
      " 9   Time Spent                                                                                    630 non-null    object \n",
      " 10  Q1 - Which Title Best Fits your Current Role?                                                 630 non-null    object \n",
      " 11  Q2 - Did you switch careers into Data?                                                        630 non-null    object \n",
      " 12  Q3 - Current Yearly Salary (in USD)                                                           630 non-null    object \n",
      " 13  Q4 - What Industry do you work in?                                                            630 non-null    object \n",
      " 14  Q5 - Favorite Programming Language                                                            630 non-null    object \n",
      " 15  Q6 - How Happy are you in your Current Position with the following? (Salary)                  623 non-null    float64\n",
      " 16  Q6 - How Happy are you in your Current Position with the following? (Work/Life Balance)       620 non-null    float64\n",
      " 17  Q6 - How Happy are you in your Current Position with the following? (Coworkers)               619 non-null    float64\n",
      " 18  Q6 - How Happy are you in your Current Position with the following? (Management)              618 non-null    float64\n",
      " 19  Q6 - How Happy are you in your Current Position with the following? (Upward Mobility)         617 non-null    float64\n",
      " 20  Q6 - How Happy are you in your Current Position with the following? (Learning New Things)     625 non-null    float64\n",
      " 21  Q7 - How difficult was it for you to break into Data?                                         630 non-null    object \n",
      " 22  Q8 - If you were to look for a new job today, what would be the most important thing to you?  630 non-null    object \n",
      " 23  Q9 - Male/Female?                                                                             630 non-null    object \n",
      " 24  Q10 - Current Age                                                                             630 non-null    int64  \n",
      " 25  Q11 - Which Country do you live in?                                                           630 non-null    object \n",
      " 26  Q12 - Highest Level of Education                                                              578 non-null    object \n",
      " 27  Q13 - Ethnicity                                                                               630 non-null    object \n",
      "dtypes: float64(11), int64(1), object(16)\n",
      "memory usage: 137.9+ KB\n"
     ]
    }
   ],
   "source": [
    "# df info\n",
    "survey.info()"
   ]
  },
  {
   "cell_type": "code",
   "execution_count": 1091,
   "id": "466e9ad7-8284-456d-82df-8ff4fbb98d32",
   "metadata": {},
   "outputs": [
    {
     "data": {
      "text/plain": [
       "Unique ID                                                                                         0\n",
       "Email                                                                                             0\n",
       "Date Taken (America/New_York)                                                                     0\n",
       "Time Taken (America/New_York)                                                                     0\n",
       "Browser                                                                                         630\n",
       "OS                                                                                              630\n",
       "City                                                                                            630\n",
       "Country                                                                                         630\n",
       "Referrer                                                                                        630\n",
       "Time Spent                                                                                        0\n",
       "Q1 - Which Title Best Fits your Current Role?                                                     0\n",
       "Q2 - Did you switch careers into Data?                                                            0\n",
       "Q3 - Current Yearly Salary (in USD)                                                               0\n",
       "Q4 - What Industry do you work in?                                                                0\n",
       "Q5 - Favorite Programming Language                                                                0\n",
       "Q6 - How Happy are you in your Current Position with the following? (Salary)                      7\n",
       "Q6 - How Happy are you in your Current Position with the following? (Work/Life Balance)          10\n",
       "Q6 - How Happy are you in your Current Position with the following? (Coworkers)                  11\n",
       "Q6 - How Happy are you in your Current Position with the following? (Management)                 12\n",
       "Q6 - How Happy are you in your Current Position with the following? (Upward Mobility)            13\n",
       "Q6 - How Happy are you in your Current Position with the following? (Learning New Things)         5\n",
       "Q7 - How difficult was it for you to break into Data?                                             0\n",
       "Q8 - If you were to look for a new job today, what would be the most important thing to you?      0\n",
       "Q9 - Male/Female?                                                                                 0\n",
       "Q10 - Current Age                                                                                 0\n",
       "Q11 - Which Country do you live in?                                                               0\n",
       "Q12 - Highest Level of Education                                                                 52\n",
       "Q13 - Ethnicity                                                                                   0\n",
       "dtype: int64"
      ]
     },
     "execution_count": 1091,
     "metadata": {},
     "output_type": "execute_result"
    }
   ],
   "source": [
    "# counts of na rows by column\n",
    "survey.isna().sum()"
   ]
  },
  {
   "cell_type": "code",
   "execution_count": 1092,
   "id": "2282fc40-d509-4f38-98b2-177726b92701",
   "metadata": {},
   "outputs": [],
   "source": [
    "# remove the 5 columns without any data whatsoever\n",
    "survey = survey.dropna(axis=1, how='all').copy()"
   ]
  },
  {
   "cell_type": "code",
   "execution_count": 1093,
   "id": "fad50b70-eaad-4d80-bb91-776fb7be9e54",
   "metadata": {},
   "outputs": [
    {
     "data": {
      "text/plain": [
       "True"
      ]
     },
     "execution_count": 1093,
     "metadata": {},
     "output_type": "execute_result"
    }
   ],
   "source": [
    "# verify unique identifier column\n",
    "survey['Unique ID'].is_unique"
   ]
  },
  {
   "cell_type": "code",
   "execution_count": 1094,
   "id": "0c724377-7ef9-4fd0-867c-8158d160d60a",
   "metadata": {},
   "outputs": [
    {
     "data": {
      "text/plain": [
       "Email\n",
       "anonymous    630\n",
       "Name: count, dtype: int64"
      ]
     },
     "execution_count": 1094,
     "metadata": {},
     "output_type": "execute_result"
    }
   ],
   "source": [
    "# value counts for email\n",
    "survey['Email'].value_counts()"
   ]
  },
  {
   "cell_type": "code",
   "execution_count": 1095,
   "id": "d5cccd80-e9e1-4d50-8c44-b979d8e613a4",
   "metadata": {},
   "outputs": [],
   "source": [
    "# emails are all 'anonymous', can drop column\n",
    "survey = survey.drop('Email', axis=1).copy()"
   ]
  },
  {
   "cell_type": "markdown",
   "id": "8d08f223-204e-4c7e-8c20-ec144ee5e382",
   "metadata": {},
   "source": [
    "### Q1"
   ]
  },
  {
   "cell_type": "code",
   "execution_count": 1097,
   "id": "9552b75c-1c2e-417f-a4e0-1566faed6985",
   "metadata": {},
   "outputs": [
    {
     "data": {
      "text/plain": [
       "Q1 - Which Title Best Fits your Current Role?\n",
       "Data Analyst                                    381\n",
       "Student/Looking/None                             90\n",
       "Data Engineer                                    38\n",
       "Data Scientist                                   25\n",
       "Other (Please Specify):Business Analyst           6\n",
       "                                               ... \n",
       "Other (Please Specify):Software Developer         1\n",
       "Other (Please Specify):Database Manager           1\n",
       "Other (Please Specify):Financial Analyst          1\n",
       "Other (Please Specify):Data Integrity             1\n",
       "Other (Please Specify):Data Scientist Intern      1\n",
       "Name: count, Length: 83, dtype: int64"
      ]
     },
     "execution_count": 1097,
     "metadata": {},
     "output_type": "execute_result"
    }
   ],
   "source": [
    "# unique values for 'Current Role'\n",
    "survey['Q1 - Which Title Best Fits your Current Role?'].value_counts()"
   ]
  },
  {
   "cell_type": "code",
   "execution_count": 1098,
   "id": "afe068a9-3993-48c9-8e80-d4a65b1255a6",
   "metadata": {},
   "outputs": [
    {
     "data": {
      "text/plain": [
       "'Data Integrity'"
      ]
     },
     "execution_count": 1098,
     "metadata": {},
     "output_type": "execute_result"
    }
   ],
   "source": [
    "# remove 'Other (Please Specify):' for clarity and ease of transformation\n",
    "survey['Q1 - Which Title Best Fits your Current Role?'] = survey['Q1 - Which Title Best Fits your Current Role?'].str.replace('Other (Please Specify):', '')\n",
    "\n",
    "# strip blank spaces\n",
    "survey['Q1 - Which Title Best Fits your Current Role?'] = survey['Q1 - Which Title Best Fits your Current Role?'].str.strip()\n",
    "\n",
    "# standardize to Title Case\n",
    "survey['Q1 - Which Title Best Fits your Current Role?'] = survey['Q1 - Which Title Best Fits your Current Role?'].str.title()\n",
    "\n",
    "# view updated value counts\n",
    "role_count = survey['Q1 - Which Title Best Fits your Current Role?'].value_counts()\n",
    "role_count.index[-2]"
   ]
  },
  {
   "cell_type": "code",
   "execution_count": 1099,
   "id": "93fce044-e78d-4867-9692-fec7543e86bb",
   "metadata": {},
   "outputs": [
    {
     "data": {
      "text/plain": [
       "Q1 - Which Title Best Fits your Current Role?\n",
       "Data Analyst                                381\n",
       "Business Analyst                              9\n",
       "Analytics Engineer                            4\n",
       "Analytics Manager                             2\n",
       "Fp&A Analyst                                  1\n",
       "Financial Analyst                             1\n",
       "Predictive Analyst                            1\n",
       "Business Intelligence Analyst                 1\n",
       "Gis Analyst                                   1\n",
       "Student Working As A Data Analyst Intern      1\n",
       "Senior Business Analyst                       1\n",
       "Finance Analyst                               1\n",
       "Business Analys                               1\n",
       "Billing Analyst                               1\n",
       "Analyst Primary Market Intelligence           1\n",
       "Sr. Supply Chain Analyst                      1\n",
       "Analytics Consultant                          1\n",
       "Analyst                                       1\n",
       "Manager Of A Team Of Data Analysts            1\n",
       "Does A Social Media Analyst Count?            1\n",
       "Insights Analyst                              1\n",
       "Research Analyst                              1\n",
       "Director Of Data Analytics                    1\n",
       "Sap Security Analyst                          1\n",
       "Name: count, dtype: int64"
      ]
     },
     "execution_count": 1099,
     "metadata": {},
     "output_type": "execute_result"
    }
   ],
   "source": [
    "# investigate 'Other' job titles further\n",
    "\n",
    "# Jobs containing 'Analy'\n",
    "survey.loc[survey['Q1 - Which Title Best Fits your Current Role?'].str.contains('Analy'), 'Q1 - Which Title Best Fits your Current Role?'].value_counts()"
   ]
  },
  {
   "cell_type": "code",
   "execution_count": 1100,
   "id": "ebae8dba-1de4-4c6d-b7a4-69c078beacbf",
   "metadata": {},
   "outputs": [
    {
     "data": {
      "text/plain": [
       "Q1 - Which Title Best Fits your Current Role?\n",
       "Analytics Manager                         2\n",
       "Data Manager                              2\n",
       "Manager, Business Intelligence Develop    1\n",
       "Learning Management Specialist            1\n",
       "Manager Of A Team Of Data Analysts        1\n",
       "Database Manager                          1\n",
       "Manager                                   1\n",
       "Account Manager                           1\n",
       "Incident Manager                          1\n",
       "Bi Manager                                1\n",
       "Name: count, dtype: int64"
      ]
     },
     "execution_count": 1100,
     "metadata": {},
     "output_type": "execute_result"
    }
   ],
   "source": [
    "# Jobs containing 'Manage'\n",
    "survey.loc[survey['Q1 - Which Title Best Fits your Current Role?'].str.contains('Manage'), 'Q1 - Which Title Best Fits your Current Role?'].value_counts()"
   ]
  },
  {
   "cell_type": "code",
   "execution_count": 1101,
   "id": "7e0bcaed-a03f-4608-aa01-297362f56f24",
   "metadata": {},
   "outputs": [
    {
     "data": {
      "text/plain": [
       "Q1 - Which Title Best Fits your Current Role?\n",
       "Student Working As A Data Analyst Intern    1\n",
       "Data Scientist Intern                       1\n",
       "Name: count, dtype: int64"
      ]
     },
     "execution_count": 1101,
     "metadata": {},
     "output_type": "execute_result"
    }
   ],
   "source": [
    "# Jobs containing 'Inter'\n",
    "survey.loc[survey['Q1 - Which Title Best Fits your Current Role?'].str.contains('Inter'), 'Q1 - Which Title Best Fits your Current Role?'].value_counts()"
   ]
  },
  {
   "cell_type": "code",
   "execution_count": 1102,
   "id": "4b206e0c-5f01-4eca-98b8-117d158c560e",
   "metadata": {},
   "outputs": [
    {
     "data": {
      "text/plain": [
       "Q1 - Which Title Best Fits your Current Role?\n",
       "Analytics Consultant                1\n",
       "Business Intelligence Consultant    1\n",
       "Consultant                          1\n",
       "Bi Consultant                       1\n",
       "Technical Consulta                  1\n",
       "Name: count, dtype: int64"
      ]
     },
     "execution_count": 1102,
     "metadata": {},
     "output_type": "execute_result"
    }
   ],
   "source": [
    "# Jobs containing 'Consult'\n",
    "survey.loc[survey['Q1 - Which Title Best Fits your Current Role?'].str.contains('Consult'), 'Q1 - Which Title Best Fits your Current Role?'].value_counts()"
   ]
  },
  {
   "cell_type": "code",
   "execution_count": 1103,
   "id": "7ba77ddc-afce-4cc9-9088-0c142521bb24",
   "metadata": {},
   "outputs": [
    {
     "data": {
      "text/plain": [
       "Q1 - Which Title Best Fits your Current Role?\n",
       "Data Scientist                                                                           25\n",
       "I Work With Data Tools And Can Create Simple Dashboards But I Am Not A Data Scientist     1\n",
       "Jr. Data Scientist                                                                        1\n",
       "Data Scientist Intern                                                                     1\n",
       "Name: count, dtype: int64"
      ]
     },
     "execution_count": 1103,
     "metadata": {},
     "output_type": "execute_result"
    }
   ],
   "source": [
    "# Jobs containing 'Scien'\n",
    "survey.loc[survey['Q1 - Which Title Best Fits your Current Role?'].str.contains('Scien'), 'Q1 - Which Title Best Fits your Current Role?'].value_counts()"
   ]
  },
  {
   "cell_type": "code",
   "execution_count": 1104,
   "id": "cbe3d882-87f3-483a-ac3c-8b9372953a33",
   "metadata": {},
   "outputs": [
    {
     "data": {
      "text/plain": [
       "Q1 - Which Title Best Fits your Current Role?\n",
       "Data Engineer                     38\n",
       "Analytics Engineer                 4\n",
       "Business Intelligence Engineer     1\n",
       "Software Engineer                  1\n",
       "Junior Software Engineer           1\n",
       "Software Engineer, Ai              1\n",
       "Rf Engineer                        1\n",
       "Support Engineer                   1\n",
       "Presales Engineer                  1\n",
       "Name: count, dtype: int64"
      ]
     },
     "execution_count": 1104,
     "metadata": {},
     "output_type": "execute_result"
    }
   ],
   "source": [
    "# Jobs containing 'Engin'\n",
    "survey.loc[survey['Q1 - Which Title Best Fits your Current Role?'].str.contains('Engin'), 'Q1 - Which Title Best Fits your Current Role?'].value_counts()"
   ]
  },
  {
   "cell_type": "code",
   "execution_count": 1105,
   "id": "bffa5a05-d6c0-4dc5-b8a7-f4c48ccf9d29",
   "metadata": {},
   "outputs": [
    {
     "data": {
      "text/plain": [
       "Q1 - Which Title Best Fits your Current Role?\n",
       "Database Developer                        5\n",
       "Bi Developer                              1\n",
       "Manager, Business Intelligence Develop    1\n",
       "Software Developer                        1\n",
       "Business Intelligence Developer           1\n",
       "Web Developer                             1\n",
       "Power Bi Developer                        1\n",
       "Name: count, dtype: int64"
      ]
     },
     "execution_count": 1105,
     "metadata": {},
     "output_type": "execute_result"
    }
   ],
   "source": [
    "# Jobs containing 'Dev'\n",
    "survey.loc[survey['Q1 - Which Title Best Fits your Current Role?'].str.contains('Dev'), 'Q1 - Which Title Best Fits your Current Role?'].value_counts()"
   ]
  },
  {
   "cell_type": "code",
   "execution_count": 1106,
   "id": "7f05c2a5-c3fb-428d-bbeb-3760facb2902",
   "metadata": {},
   "outputs": [],
   "source": [
    "analyst = ['Analyst',\n",
    "           'Business Analyst',\n",
    "           'Analytics Engineer',\n",
    "           'Business Analyst',\n",
    "           'Financial Analyst',\n",
    "           'Predictive Analyst',\n",
    "           'Business Intelligence Analyst',\n",
    "           'GIS Analyst',\n",
    "           'Sernior Business Analyst',\n",
    "           'Finance Analyst',\n",
    "           'Business Analys',\n",
    "           'Analyst Primary Market Intelligence',\n",
    "           'FP&A Analyst',\n",
    "           'Research Analyst',\n",
    "           'Sr. Supply Chain Analyst',\n",
    "           'SAP Security Analyst',\n",
    "           'Senior Business Analyst',\n",
    "           'Insights Analyst',\n",
    "           'Does A Social Media Analyst Count?',\n",
    "           'Billing Analyst',\n",
    "           'I Work With Data Tools And Can Create Simple Dashboards But I Am Not A Data Scientist'\n",
    "           'Bi Developer',\n",
    "           'Business Intelligence Developer',\n",
    "           'Power Bi Developer']\n",
    "\n",
    "manager = ['Analytics Manager',\n",
    "           'Manager of a team of Data Analysts',\n",
    "           'Director of Data Analytics',\n",
    "           'Manager, Business Intelligence Develop',\n",
    "           'Learning Management Specialist',\n",
    "           'Database Manager',\n",
    "           'Incident Manager',\n",
    "           'Data Manager',\n",
    "           'BI Manager',\n",
    "           'Account Manager',\n",
    "           'Pmo',\n",
    "           'Reporting Adm',\n",
    "           'Director',\n",
    "           'Tableau Admin']\n",
    "\n",
    "consultant = ['Analytics Consultant',\n",
    "              'Consultant',\n",
    "              'Business Intelligence Consultant',\n",
    "              'Bi Consultant',\n",
    "              'Technical Consulta']\n",
    "              \n",
    "\n",
    "student = ['Data Scientist Intern',\n",
    "           'Student Working As A Data Analyst Intern']\n",
    "\n",
    "data_scientist = ['Jr. Data Scientist']\n",
    "\n",
    "engineer = ['Business Intelligence Engineer',\n",
    "            'Software Engineer',\n",
    "            'Junior Software Engineer',\n",
    "            'Software Engineer, Ai',\n",
    "            'Rf Engineer',\n",
    "            'Support Engineer',\n",
    "            'Presales Engineer',\n",
    "            'Database Developer',\n",
    "            'Data Architect']\n",
    "\n",
    "# List of validated job groupings\n",
    "validated_jobs = ['Data Analyst',\n",
    "                  'Student/Looking/None',\n",
    "                  'Data Engineer',\n",
    "                  'Data Scientist',\n",
    "                  'Manager',\n",
    "                  'Consultant']"
   ]
  },
  {
   "cell_type": "code",
   "execution_count": 1107,
   "id": "00a6ca58-2eb9-488d-acb4-c3667b8a7595",
   "metadata": {},
   "outputs": [
    {
     "data": {
      "text/plain": [
       "Q1 - Which Title Best Fits your Current Role?\n",
       "Data Analyst            409\n",
       "Student/Looking/None     92\n",
       "Data Engineer            53\n",
       "Other                    31\n",
       "Data Scientist           26\n",
       "Manager                  14\n",
       "Consultant                5\n",
       "Name: count, dtype: int64"
      ]
     },
     "execution_count": 1107,
     "metadata": {},
     "output_type": "execute_result"
    }
   ],
   "source": [
    "# consolidate 'Other' items as best as possible\n",
    "survey.loc[survey['Q1 - Which Title Best Fits your Current Role?'].isin(analyst), 'Q1 - Which Title Best Fits your Current Role?'] = 'Data Analyst'\n",
    "survey.loc[survey['Q1 - Which Title Best Fits your Current Role?'].isin(manager), 'Q1 - Which Title Best Fits your Current Role?'] = 'Manager'\n",
    "survey.loc[survey['Q1 - Which Title Best Fits your Current Role?'].isin(consultant), 'Q1 - Which Title Best Fits your Current Role?'] = 'Consultant'\n",
    "survey.loc[survey['Q1 - Which Title Best Fits your Current Role?'].isin(student), 'Q1 - Which Title Best Fits your Current Role?'] = 'Student/Looking/None'\n",
    "survey.loc[survey['Q1 - Which Title Best Fits your Current Role?'].isin(data_scientist), 'Q1 - Which Title Best Fits your Current Role?'] = 'Data Scientist'\n",
    "survey.loc[survey['Q1 - Which Title Best Fits your Current Role?'].isin(engineer), 'Q1 - Which Title Best Fits your Current Role?'] = 'Data Engineer'\n",
    "\n",
    "# rest of items = 'Other'\n",
    "survey.loc[~survey['Q1 - Which Title Best Fits your Current Role?'].isin(validated_jobs), 'Q1 - Which Title Best Fits your Current Role?'] = 'Other'\n",
    "\n",
    "# updated value_counts\n",
    "survey['Q1 - Which Title Best Fits your Current Role?'].value_counts()"
   ]
  },
  {
   "cell_type": "markdown",
   "id": "58ee5984-9243-4797-b6d1-6303c137a10a",
   "metadata": {},
   "source": [
    "### Q2"
   ]
  },
  {
   "cell_type": "code",
   "execution_count": 1109,
   "id": "a2da8643-117e-4838-931e-34622dbdab2f",
   "metadata": {},
   "outputs": [
    {
     "data": {
      "text/plain": [
       "Q2 - Did you switch careers into Data?\n",
       "Yes    372\n",
       "No     258\n",
       "Name: count, dtype: int64"
      ]
     },
     "execution_count": 1109,
     "metadata": {},
     "output_type": "execute_result"
    }
   ],
   "source": [
    "# validate Q2\n",
    "survey['Q2 - Did you switch careers into Data?'].value_counts()"
   ]
  },
  {
   "cell_type": "markdown",
   "id": "2dee2fa5-b754-4cb9-af2a-01db986ca2c0",
   "metadata": {},
   "source": [
    "### Q3"
   ]
  },
  {
   "cell_type": "code",
   "execution_count": 1111,
   "id": "344b4629-f303-4c2d-ae72-31ac696339fe",
   "metadata": {},
   "outputs": [
    {
     "data": {
      "text/plain": [
       "Q3 - Current Yearly Salary (in USD)\n",
       "0-40k        275\n",
       "41k-65k      149\n",
       "66k-85k       93\n",
       "86k-105k      52\n",
       "106k-125k     29\n",
       "125k-150k     17\n",
       "150k-225k     13\n",
       "225k+          2\n",
       "Name: count, dtype: int64"
      ]
     },
     "execution_count": 1111,
     "metadata": {},
     "output_type": "execute_result"
    }
   ],
   "source": [
    "# validate Q3\n",
    "survey['Q3 - Current Yearly Salary (in USD)'].value_counts()"
   ]
  },
  {
   "cell_type": "markdown",
   "id": "f7fefbc2-9c57-4217-9b25-4af134d0b95f",
   "metadata": {},
   "source": [
    "### Q4"
   ]
  },
  {
   "cell_type": "code",
   "execution_count": 1113,
   "id": "23fea6ea-ffe7-44e1-aa67-a3928d635ae1",
   "metadata": {},
   "outputs": [
    {
     "data": {
      "text/plain": [
       "Q4 - What Industry do you work in?\n",
       "Tech                         150\n",
       "Finance                       97\n",
       "Healthcare                    84\n",
       "Education                     38\n",
       "Telecommunication             22\n",
       "                            ... \n",
       "Non Profit Animal Welfare      1\n",
       "Warehouse                      1\n",
       "Management                     1\n",
       "Medical Industry               1\n",
       "Transportation                 1\n",
       "Name: count, Length: 132, dtype: int64"
      ]
     },
     "execution_count": 1113,
     "metadata": {},
     "output_type": "execute_result"
    }
   ],
   "source": [
    "# remove 'Other (Please Specify):' for clarity and ease of transformation\n",
    "survey['Q4 - What Industry do you work in?'] = survey['Q4 - What Industry do you work in?'].str.replace('Other (Please Specify):', '')\n",
    "\n",
    "# strip blank spaces\n",
    "survey['Q4 - What Industry do you work in?'] = survey['Q4 - What Industry do you work in?'].str.strip()\n",
    "\n",
    "# standardize to Title Case\n",
    "survey['Q4 - What Industry do you work in?'] = survey['Q4 - What Industry do you work in?'].str.title()\n",
    "\n",
    "# view updated value counts\n",
    "survey['Q4 - What Industry do you work in?'].value_counts()"
   ]
  },
  {
   "cell_type": "code",
   "execution_count": 1114,
   "id": "09039ed6-2c21-438c-b5e7-e382015b4ed6",
   "metadata": {},
   "outputs": [
    {
     "data": {
      "text/plain": [
       "['Tech',\n",
       " 'Finance',\n",
       " 'Healthcare',\n",
       " 'Education',\n",
       " 'Telecommunication',\n",
       " 'Retail',\n",
       " 'Construction',\n",
       " 'Real Estate']"
      ]
     },
     "execution_count": 1114,
     "metadata": {},
     "output_type": "execute_result"
    }
   ],
   "source": [
    "# industry value_counts once again\n",
    "industries = survey['Q4 - What Industry do you work in?'].value_counts()\n",
    "\n",
    "# locate industries with count >= 10\n",
    "pop_industries = industries.loc[industries >= 10].index.to_list()\n",
    "pop_industries"
   ]
  },
  {
   "cell_type": "code",
   "execution_count": 1115,
   "id": "bea4910e-4e89-4b17-b7c7-a860feeaec89",
   "metadata": {},
   "outputs": [
    {
     "data": {
      "text/plain": [
       "Q4 - What Industry do you work in?\n",
       "Other                197\n",
       "Tech                 150\n",
       "Finance               97\n",
       "Healthcare            84\n",
       "Education             38\n",
       "Telecommunication     22\n",
       "Retail                15\n",
       "Construction          14\n",
       "Real Estate           13\n",
       "Name: count, dtype: int64"
      ]
     },
     "execution_count": 1115,
     "metadata": {},
     "output_type": "execute_result"
    }
   ],
   "source": [
    "# relegate less-common industries to 'Other'\n",
    "survey.loc[~survey['Q4 - What Industry do you work in?'].isin(pop_industries), 'Q4 - What Industry do you work in?'] = 'Other'\n",
    "\n",
    "# updated value_counts\n",
    "survey['Q4 - What Industry do you work in?'].value_counts()"
   ]
  },
  {
   "cell_type": "markdown",
   "id": "4ed159da-4abd-4476-a120-f2dd2452da28",
   "metadata": {},
   "source": [
    "### Q5"
   ]
  },
  {
   "cell_type": "code",
   "execution_count": 1117,
   "id": "e56b1cfd-7655-46ff-a8d2-401736f9ebf6",
   "metadata": {},
   "outputs": [
    {
     "data": {
      "text/plain": [
       "Q5 - Favorite Programming Language\n",
       "Python                                                                                                                                                                                                                                             420\n",
       "R                                                                                                                                                                                                                                                  101\n",
       "Sql                                                                                                                                                                                                                                                 43\n",
       "Other                                                                                                                                                                                                                                                9\n",
       "C/C++                                                                                                                                                                                                                                                7\n",
       "Javascript                                                                                                                                                                                                                                           6\n",
       "None                                                                                                                                                                                                                                                 6\n",
       "Dax                                                                                                                                                                                                                                                  5\n",
       "Excel                                                                                                                                                                                                                                                2\n",
       "Vba                                                                                                                                                                                                                                                  2\n",
       "Sas                                                                                                                                                                                                                                                  2\n",
       "Sas Sql                                                                                                                                                                                                                                              1\n",
       "I Mean, I Mostly Work In Sql And Its Variants?                                                                                                                                                                                                       1\n",
       "Just Started Learning                                                                                                                                                                                                                                1\n",
       "None At The Moment                                                                                                                                                                                                                                   1\n",
       "Na                                                                                                                                                                                                                                                   1\n",
       "Java                                                                                                                                                                                                                                                 1\n",
       "Php                                                                                                                                                                                                                                                  1\n",
       "Mainly Use Excel                                                                                                                                                                                                                                     1\n",
       "Sql Because That Is All I Know Really Well So Far.                                                                                                                                                                                                   1\n",
       "Matlab                                                                                                                                                                                                                                               1\n",
       "Sql &  Plsql                                                                                                                                                                                                                                         1\n",
       "C#                                                                                                                                                                                                                                                   1\n",
       "Stata                                                                                                                                                                                                                                                1\n",
       "Altery                                                                                                                                                                                                                                               1\n",
       "I Currently Do Not Work With Programming Languages Yet                                                                                                                                                                                               1\n",
       "Sql Postgres                                                                                                                                                                                                                                         1\n",
       "Unknown                                                                                                                                                                                                                                              1\n",
       "Excel/Sql                                                                                                                                                                                                                                            1\n",
       "I Don'T Use Programming In My Role                                                                                                                                                                                                                   1\n",
       "Knowledge Of Excel And Sql Yet                                                                                                                                                                                                                       1\n",
       "Dont Require                                                                                                                                                                                                                                         1\n",
       "I Don’T Know Any                                                                                                                                                                                                                                     1\n",
       "If Sql Is Categorised As A Programming Language Then I Will Definitely Say Sql. Since I Am Still Learning, I Can'T Give A Definite Answer In Relation To The Abover Mentioned But For The Sake Of Choosing I Will Say R Then Followed By Python      1\n",
       "Power Bi                                                                                                                                                                                                                                             1\n",
       "Qlik Sense Script                                                                                                                                                                                                                                    1\n",
       "Mostly Use Sql But That’S Not Programming Language..                                                                                                                                                                                                 1\n",
       "I Do Analysis And Create Presentations Based On Datasets Provided By Others                                                                                                                                                                          1\n",
       "Name: count, dtype: int64"
      ]
     },
     "execution_count": 1117,
     "metadata": {},
     "output_type": "execute_result"
    }
   ],
   "source": [
    "# remove 'Other:' for clarity and ease of transformation\n",
    "survey['Q5 - Favorite Programming Language'] = survey['Q5 - Favorite Programming Language'].str.replace('Other:', '')\n",
    "\n",
    "# strip blank spaces\n",
    "survey['Q5 - Favorite Programming Language'] = survey['Q5 - Favorite Programming Language'].str.strip()\n",
    "\n",
    "# standardize to Title Case\n",
    "survey['Q5 - Favorite Programming Language'] = survey['Q5 - Favorite Programming Language'].str.title()\n",
    "\n",
    "# view updated value counts\n",
    "survey['Q5 - Favorite Programming Language'].value_counts()"
   ]
  },
  {
   "cell_type": "code",
   "execution_count": 1118,
   "id": "25ee592f-344c-488f-9045-dcf412192443",
   "metadata": {},
   "outputs": [
    {
     "data": {
      "text/plain": [
       "'Sas Sql'"
      ]
     },
     "execution_count": 1118,
     "metadata": {},
     "output_type": "execute_result"
    }
   ],
   "source": [
    "survey['Q5 - Favorite Programming Language'].value_counts().index[11]"
   ]
  },
  {
   "cell_type": "code",
   "execution_count": 1119,
   "id": "b9be4b2d-1383-4599-8ada-bc11288fd895",
   "metadata": {},
   "outputs": [],
   "source": [
    "sql = ['sql',\n",
    "       'Sql',\n",
    "       'Sql Because That Is All I Know Really Well So Far.',\n",
    "       'Sas Sql',\n",
    "       'Sql &  Plsql',\n",
    "       'Knowledge Of Excel And Sql Yet',\n",
    "       \"If Sql Is Categorised As A Programming Language Then I Will Definitely Say Sql. Since I Am Still Learning, I Can'T Give A Definite Answer In Relation To The Abover Mentioned But For The Sake Of Choosing I Will Say R Then Followed By Python\",\n",
    "       'Mostly Use Sql But That’S Not Programming Language..',\n",
    "       'Sql Postgres',\n",
    "       'Excel/Sql',\n",
    "       'I Mean, I Mostly Work In Sql And Its Variants?']\n",
    "\n",
    "none_used = ['Excel',\n",
    "             'I Do Analysis And Create Presentations Based On Datasets Provided By Others',\n",
    "             \"I Don'T Use Programming In My Role\",\n",
    "             'I Currently Do Not Work With Programming Languages Yet',\n",
    "             'I Don’T Know Any',\n",
    "             'Mainly Use Excel',\n",
    "             'Na',\n",
    "             'Just Started Learning',\n",
    "             'None At The Moment',\n",
    "             'Dont Require',\n",
    "             'Unknown',\n",
    "             'Power Bi',\n",
    "             'Dax']\n",
    "\n",
    "# list of validated languages\n",
    "valid_language = ['SQL',\n",
    "                  'None']"
   ]
  },
  {
   "cell_type": "code",
   "execution_count": 1120,
   "id": "4eab9596-2854-45d1-baa7-36437158222f",
   "metadata": {},
   "outputs": [
    {
     "data": {
      "text/plain": [
       "Q5 - Favorite Programming Language\n",
       "Python               420\n",
       "R                    101\n",
       "SQL                   52\n",
       "None                  24\n",
       "Other                  9\n",
       "C/C++                  7\n",
       "Javascript             6\n",
       "Vba                    2\n",
       "Sas                    2\n",
       "Qlik Sense Script      1\n",
       "Stata                  1\n",
       "Altery                 1\n",
       "C#                     1\n",
       "Java                   1\n",
       "Matlab                 1\n",
       "Php                    1\n",
       "Name: count, dtype: int64"
      ]
     },
     "execution_count": 1120,
     "metadata": {},
     "output_type": "execute_result"
    }
   ],
   "source": [
    "# consolidate 'Other' items as best as possible\n",
    "survey.loc[survey['Q5 - Favorite Programming Language'].isin(sql), 'Q5 - Favorite Programming Language'] = 'SQL'\n",
    "survey.loc[survey['Q5 - Favorite Programming Language'].isin(none_used), 'Q5 - Favorite Programming Language'] = 'None'\n",
    "\n",
    "# updated value_counts\n",
    "languages = survey['Q5 - Favorite Programming Language'].value_counts()\n",
    "languages"
   ]
  },
  {
   "cell_type": "code",
   "execution_count": 1121,
   "id": "b5626c8d-7a01-4eca-955e-fefa01602623",
   "metadata": {},
   "outputs": [
    {
     "data": {
      "text/plain": [
       "['Python', 'R', 'SQL', 'None', 'Other', 'C/C++', 'Javascript']"
      ]
     },
     "execution_count": 1121,
     "metadata": {},
     "output_type": "execute_result"
    }
   ],
   "source": [
    "# locate languages with count >= 5\n",
    "pop_languages = languages.loc[languages >= 5].index.to_list()\n",
    "pop_languages"
   ]
  },
  {
   "cell_type": "code",
   "execution_count": 1122,
   "id": "ec15e1a8-69dc-44df-89ea-be54d5e224c1",
   "metadata": {},
   "outputs": [
    {
     "data": {
      "text/plain": [
       "Q5 - Favorite Programming Language\n",
       "Python        420\n",
       "R             101\n",
       "SQL            52\n",
       "None           24\n",
       "Other          20\n",
       "C/C++           7\n",
       "Javascript      6\n",
       "Name: count, dtype: int64"
      ]
     },
     "execution_count": 1122,
     "metadata": {},
     "output_type": "execute_result"
    }
   ],
   "source": [
    "# relegate less-common languages to 'Other'\n",
    "survey.loc[~survey['Q5 - Favorite Programming Language'].isin(pop_languages), 'Q5 - Favorite Programming Language'] = 'Other'\n",
    "\n",
    "# updated value_counts\n",
    "survey['Q5 - Favorite Programming Language'].value_counts()"
   ]
  },
  {
   "cell_type": "markdown",
   "id": "95d16b1b-f48a-4a37-9010-cb11632a42fd",
   "metadata": {},
   "source": [
    "### Q6"
   ]
  },
  {
   "cell_type": "code",
   "execution_count": 1124,
   "id": "742eb160-929c-40c6-95f7-c64e30b91037",
   "metadata": {},
   "outputs": [
    {
     "data": {
      "text/plain": [
       "Q6 - How Happy are you in your Current Position with the following? (Salary)\n",
       "0.0     74\n",
       "1.0     46\n",
       "2.0     56\n",
       "3.0     89\n",
       "4.0     75\n",
       "5.0     71\n",
       "6.0     55\n",
       "7.0     64\n",
       "8.0     55\n",
       "9.0     18\n",
       "10.0    20\n",
       "Name: count, dtype: int64"
      ]
     },
     "execution_count": 1124,
     "metadata": {},
     "output_type": "execute_result"
    }
   ],
   "source": [
    "# validate the \"1-10\" question columns\n",
    "survey['Q6 - How Happy are you in your Current Position with the following? (Salary)'].value_counts().sort_index()"
   ]
  },
  {
   "cell_type": "markdown",
   "id": "c2ea3058-c517-4920-a874-3e1c89ebdc50",
   "metadata": {},
   "source": [
    "### Q7"
   ]
  },
  {
   "cell_type": "code",
   "execution_count": 1126,
   "id": "8493665a-4f68-4785-ae47-a8d81080c9af",
   "metadata": {},
   "outputs": [
    {
     "data": {
      "text/plain": [
       "Q7 - How difficult was it for you to break into Data?\n",
       "Neither easy nor difficult    269\n",
       "Difficult                     156\n",
       "Easy                          134\n",
       "Very Difficult                 44\n",
       "Very Easy                      27\n",
       "Name: count, dtype: int64"
      ]
     },
     "execution_count": 1126,
     "metadata": {},
     "output_type": "execute_result"
    }
   ],
   "source": [
    "# validate Q7\n",
    "survey['Q7 - How difficult was it for you to break into Data?'].value_counts()"
   ]
  },
  {
   "cell_type": "markdown",
   "id": "6e7fb709-67d5-423d-9847-bc378a6eb437",
   "metadata": {},
   "source": [
    "### Q8"
   ]
  },
  {
   "cell_type": "code",
   "execution_count": 1128,
   "id": "a972e1a9-441b-44a9-862f-35106b537df8",
   "metadata": {},
   "outputs": [
    {
     "data": {
      "text/plain": [
       "Q8 - If you were to look for a new job today, what would be the most important thing to you?\n",
       "Better Salary                                                                                                                                                                                 297\n",
       "Remote Work                                                                                                                                                                                   127\n",
       "Good Work/Life Balance                                                                                                                                                                        117\n",
       "Good Culture                                                                                                                                                                                   54\n",
       "Other (Please Specify):Challenging / exciting problems                                                                                                                                          1\n",
       "Other (Please Specify):Mix of better salary, good work/life balance, remote work and good culture                                                                                               1\n",
       "Other (Please Specify):Learning opportunity                                                                                                                                                     1\n",
       "Other (Please Specify):Learning New Things                                                                                                                                                      1\n",
       "Other (Please Specify):Salary and expo                                                                                                                                                          1\n",
       "Other (Please Specify):In office work                                                                                                                                                           1\n",
       "Other (Please Specify):Learning new skills                                                                                                                                                      1\n",
       "Other (Please Specify):Data Maturity                                                                                                                                                            1\n",
       "Other (Please Specify):All of the above                                                                                                                                                         1\n",
       "Other (Please Specify):Mentorship from leading Data Analyst                                                                                                                                     1\n",
       "Other (Please Specify):Opportunity to learn                                                                                                                                                     1\n",
       "Other (Please Specify):Better work & remote salary                                                                                                                                              1\n",
       "Other (Please Specify):The work                                                                                                                                                                 1\n",
       "Other (Please Specify):Remote too                                                                                                                                                               1\n",
       "Other (Please Specify):Collaboration                                                                                                                                                            1\n",
       "Other (Please Specify):Better Tech Stack                                                                                                                                                        1\n",
       "Other (Please Specify):Intresting work                                                                                                                                                          1\n",
       "Other (Please Specify):Good opportunities in projects and learnjng                                                                                                                              1\n",
       "Other (Please Specify):Projects I’m interested in                                                                                                                                               1\n",
       "Other (Please Specify):Different job title, either product owner or consulting                                                                                                                  1\n",
       "Other (Please Specify):Responsibilities                                                                                                                                                         1\n",
       "Other (Please Specify):Development                                                                                                                                                              1\n",
       "Other (Please Specify):Strong organizational data strategy, high-performing team                                                                                                                1\n",
       "Other (Please Specify):I would say a combination of good work/life balance with a better pay and the exposure to a workplace that supposed growth                                               1\n",
       "Other (Please Specify):Currently very happy with where I am.                                                                                                                                    1\n",
       "Other (Please Specify):My passion is to become a Data analyst                                                                                                                                   1\n",
       "Other (Please Specify):Opportunity for advancement                                                                                                                                              1\n",
       "Other (Please Specify):I just started and I don't like programming so much, so I would search for a more \"impactiful\" role. Meaning: being able to take decisions that steer the business.      1\n",
       "Other (Please Specify):Want to move from Australia to Canada, so position in desired country                                                                                                    1\n",
       "Other (Please Specify):All of the options are important to me when looking for a new job                                                                                                        1\n",
       "Other (Please Specify):Both Good work / life Balance and Good Culture                                                                                                                           1\n",
       "Other (Please Specify):an environment that encourages growth like where I work currently and better salary                                                                                      1\n",
       "Other (Please Specify):Learning possibilities                                                                                                                                                   1\n",
       "Other (Please Specify):Opportunities for growth                                                                                                                                                 1\n",
       "Other (Please Specify):Career Advancedment                                                                                                                                                      1\n",
       "Name: count, dtype: int64"
      ]
     },
     "execution_count": 1128,
     "metadata": {},
     "output_type": "execute_result"
    }
   ],
   "source": [
    "# validate Q8\n",
    "survey['Q8 - If you were to look for a new job today, what would be the most important thing to you?'].value_counts()"
   ]
  },
  {
   "cell_type": "code",
   "execution_count": 1129,
   "id": "19151633-f3f3-4f88-9e19-9d4bcde943ba",
   "metadata": {},
   "outputs": [
    {
     "data": {
      "text/plain": [
       "Q8 - If you were to look for a new job today, what would be the most important thing to you?\n",
       "Better Salary             297\n",
       "Remote Work               127\n",
       "Good Work/Life Balance    117\n",
       "Good Culture               54\n",
       "Other                      35\n",
       "Name: count, dtype: int64"
      ]
     },
     "execution_count": 1129,
     "metadata": {},
     "output_type": "execute_result"
    }
   ],
   "source": [
    "# too challenging to validate for simply infographics, reduce to top categories\n",
    "(\n",
    "    survey.loc[~survey['Q8 - If you were to look for a new job today, what would be the most important thing to you?']\n",
    "    .isin(['Better Salary', 'Remote Work', 'Good Work/Life Balance', 'Good Culture']), 'Q8 - If you were to look for a new job today, what would be the most important thing to you?']\n",
    ") = 'Other'\n",
    "\n",
    "# updated value_counts\n",
    "survey['Q8 - If you were to look for a new job today, what would be the most important thing to you?'].value_counts()"
   ]
  },
  {
   "cell_type": "markdown",
   "id": "270e9636-0675-4dff-849b-7f8247f60101",
   "metadata": {},
   "source": [
    "### Q9"
   ]
  },
  {
   "cell_type": "code",
   "execution_count": 1131,
   "id": "cad14eda-c78a-46f7-bb83-b4e0459f185d",
   "metadata": {},
   "outputs": [
    {
     "data": {
      "text/plain": [
       "Q9 - Male/Female?\n",
       "Male      468\n",
       "Female    162\n",
       "Name: count, dtype: int64"
      ]
     },
     "execution_count": 1131,
     "metadata": {},
     "output_type": "execute_result"
    }
   ],
   "source": [
    "# validate Q9\n",
    "survey['Q9 - Male/Female?'].value_counts()"
   ]
  },
  {
   "cell_type": "markdown",
   "id": "98cd8d36-9824-46dd-9d35-84725f2cc384",
   "metadata": {},
   "source": [
    "### Q10"
   ]
  },
  {
   "cell_type": "code",
   "execution_count": 1133,
   "id": "b50a57b4-b952-4d28-aed7-7539ee4932ef",
   "metadata": {},
   "outputs": [
    {
     "data": {
      "text/plain": [
       "count    630.000000\n",
       "mean      29.866667\n",
       "std        7.245941\n",
       "min       18.000000\n",
       "25%       25.000000\n",
       "50%       28.000000\n",
       "75%       33.000000\n",
       "max       92.000000\n",
       "Name: Q10 - Current Age, dtype: float64"
      ]
     },
     "execution_count": 1133,
     "metadata": {},
     "output_type": "execute_result"
    }
   ],
   "source": [
    "# validate Q10\n",
    "survey['Q10 - Current Age'].describe()\n",
    "\n",
    "# someone is 92 working in data??? good for them!"
   ]
  },
  {
   "cell_type": "markdown",
   "id": "b8257036-c2cc-4a68-9509-5a5418b5c621",
   "metadata": {},
   "source": [
    "### Q11"
   ]
  },
  {
   "cell_type": "code",
   "execution_count": 1135,
   "id": "f361441e-fb36-439e-b1b0-f03cf3d1741e",
   "metadata": {},
   "outputs": [
    {
     "data": {
      "text/plain": [
       "Q11 - Which Country do you live in?\n",
       "United States                                   261\n",
       "India                                            73\n",
       "United Kingdom                                   40\n",
       "Canada                                           32\n",
       "Other (Please Specify):Nigeria                   18\n",
       "Other (Please Specify):Germany                   14\n",
       "Other (Please Specify):Nigeria                   10\n",
       "Other (Please Specify):Spain                      9\n",
       "Other (Please Specify):Australia                  8\n",
       "Other (Please Specify):Poland                     6\n",
       "Other (Please Specify):Egypt                      6\n",
       "Other (Please Specify):Costa Rica                 6\n",
       "Other (Please Specify):Kenya                      6\n",
       "Other (Please Specify):Mexico                     6\n",
       "Other (Please Specify):Netherlands                5\n",
       "Other (Please Specify):Portugal                   5\n",
       "Other (Please Specify):Argentina                  5\n",
       "Other (Please Specify):Colombia                   4\n",
       "Other (Please Specify):Greece                     4\n",
       "Other (Please Specify):France                     4\n",
       "Other (Please Specify):Indonesia                  3\n",
       "Other (Please Specify):Malaysia                   3\n",
       "Other (Please Specify):Romania                    3\n",
       "Other (Please Specify):Singapore                  3\n",
       "Other (Please Specify)                            3\n",
       "Other (Please Specify):Morocco                    2\n",
       "Other (Please Specify):Costa Rica                 2\n",
       "Other (Please Specify):Ghana                      2\n",
       "Other (Please Specify):Ireland                    2\n",
       "Other (Please Specify):Philippines                2\n",
       "Other (Please Specify):Peru                       2\n",
       "Other (Please Specify):UAE                        2\n",
       "Other (Please Specify):Belgium                    2\n",
       "Other (Please Specify):Bangladesh                 2\n",
       "Other (Please Specify):Israel                     2\n",
       "Other (Please Specify):Panama                     2\n",
       "Other (Please Specify):Turkey                     2\n",
       "Other (Please Specify):Niger                      2\n",
       "Other (Please Specify):South Africa               2\n",
       "Other (Please Specify):Sudan                      2\n",
       "Other (Please Specify):Denmark                    2\n",
       "Other (Please Specify):Japan                      2\n",
       "Other (Please Specify):Chile                      2\n",
       "Other (Please Specify):Brazil                     2\n",
       "Other (Please Specify):Bulgaria                   2\n",
       "Other (Please Specify):Saudi Arabia               1\n",
       "Other (Please Specify):Saudi Arabia               1\n",
       "Other (Please Specify):Leba                       1\n",
       "Other (Please Specify):United Arab Emirates       1\n",
       "Other (Please Specify):Zambia                     1\n",
       "Name: count, dtype: int64"
      ]
     },
     "execution_count": 1135,
     "metadata": {},
     "output_type": "execute_result"
    }
   ],
   "source": [
    "# validate Q11\n",
    "survey['Q11 - Which Country do you live in?'].value_counts()[:50]"
   ]
  },
  {
   "cell_type": "code",
   "execution_count": 1136,
   "id": "d6898266-6e12-4f35-99da-99a029b8f20b",
   "metadata": {},
   "outputs": [
    {
     "data": {
      "text/plain": [
       "Q11 - Which Country do you live in?\n",
       "United States     261\n",
       "India              73\n",
       "United Kingdom     40\n",
       "Canada             32\n",
       "Nigeria            29\n",
       "Germany            14\n",
       "Spain               9\n",
       "Costa Rica          8\n",
       "Australia           8\n",
       "Egypt               7\n",
       "Kenya               7\n",
       "Mexico              6\n",
       "Poland              6\n",
       "Argentina           6\n",
       "Portugal            5\n",
       "Netherlands         5\n",
       "France              4\n",
       "Greece              4\n",
       "Indonesia           4\n",
       "Colombia            4\n",
       "Name: count, dtype: int64"
      ]
     },
     "execution_count": 1136,
     "metadata": {},
     "output_type": "execute_result"
    }
   ],
   "source": [
    "# remove 'Other (Please Specify):' for clarity and ease of transformation\n",
    "survey['Q11 - Which Country do you live in?'] = survey['Q11 - Which Country do you live in?'].str.replace('Other (Please Specify):', '')\n",
    "\n",
    "# strip blank spaces\n",
    "survey['Q11 - Which Country do you live in?'] = survey['Q11 - Which Country do you live in?'].str.strip()\n",
    "\n",
    "# standardize to Title Case\n",
    "survey['Q11 - Which Country do you live in?'] = survey['Q11 - Which Country do you live in?'].str.title()\n",
    "\n",
    "# view updated value counts\n",
    "countries = survey['Q11 - Which Country do you live in?'].value_counts()[:20]\n",
    "countries"
   ]
  },
  {
   "cell_type": "code",
   "execution_count": 1137,
   "id": "70ebabd4-efdc-4372-a1b7-f7c94634913a",
   "metadata": {},
   "outputs": [
    {
     "data": {
      "text/plain": [
       "['United States', 'India', 'United Kingdom', 'Canada', 'Nigeria', 'Germany']"
      ]
     },
     "execution_count": 1137,
     "metadata": {},
     "output_type": "execute_result"
    }
   ],
   "source": [
    "# locate countries with count >= 10\n",
    "pop_countries = countries.loc[countries >= 10].index.to_list()\n",
    "pop_countries"
   ]
  },
  {
   "cell_type": "code",
   "execution_count": 1138,
   "id": "ef63258f-cae2-4b36-9f5d-7ade0c37ad7a",
   "metadata": {},
   "outputs": [
    {
     "data": {
      "text/plain": [
       "Q11 - Which Country do you live in?\n",
       "United States     261\n",
       "Other             181\n",
       "India              73\n",
       "United Kingdom     40\n",
       "Canada             32\n",
       "Nigeria            29\n",
       "Germany            14\n",
       "Name: count, dtype: int64"
      ]
     },
     "execution_count": 1138,
     "metadata": {},
     "output_type": "execute_result"
    }
   ],
   "source": [
    "# relegate less-common countries to 'Other'\n",
    "survey.loc[~survey['Q11 - Which Country do you live in?'].isin(pop_countries), 'Q11 - Which Country do you live in?'] = 'Other'\n",
    "\n",
    "# updated value_counts\n",
    "survey['Q11 - Which Country do you live in?'].value_counts()"
   ]
  },
  {
   "cell_type": "markdown",
   "id": "d0a11c41-9041-49c6-90fc-47a010eb2e23",
   "metadata": {},
   "source": [
    "### Q12"
   ]
  },
  {
   "cell_type": "code",
   "execution_count": 1140,
   "id": "55a30446-8a8d-46c8-99e9-d3d71f96856e",
   "metadata": {},
   "outputs": [
    {
     "data": {
      "text/plain": [
       "Q12 - Highest Level of Education\n",
       "Bachelors      329\n",
       "Masters        192\n",
       "High School     36\n",
       "Associates      16\n",
       "PhD              5\n",
       "Name: count, dtype: int64"
      ]
     },
     "execution_count": 1140,
     "metadata": {},
     "output_type": "execute_result"
    }
   ],
   "source": [
    "# validate Q12\n",
    "survey['Q12 - Highest Level of Education'].value_counts()"
   ]
  },
  {
   "cell_type": "markdown",
   "id": "3be32805-bc4e-41c0-99d6-23f71d1cfa80",
   "metadata": {},
   "source": [
    "### Q13"
   ]
  },
  {
   "cell_type": "code",
   "execution_count": 1142,
   "id": "d75dbdeb-c760-442e-8522-a93632bb46de",
   "metadata": {},
   "outputs": [
    {
     "data": {
      "text/plain": [
       "Q13 - Ethnicity\n",
       "White or Caucasian                                                                     239\n",
       "Asian or Asian American                                                                155\n",
       "Black or African American                                                              101\n",
       "Hispanic or Latino                                                                      73\n",
       "Other (Please Specify):Indian                                                           14\n",
       "American Indian or Alaska Native                                                         4\n",
       "Other (Please Specify):African                                                           3\n",
       "Other (Please Specify):African                                                           3\n",
       "Native Hawaiian or other Pacific Islander                                                2\n",
       "Other (Please Specify):Bi-racial people should be able to check 2 options in 2022.       1\n",
       "Other (Please Specify):Bla                                                               1\n",
       "Other (Please Specify):Moroccan                                                          1\n",
       "Other (Please Specify):Indian                                                            1\n",
       "Other (Please Specify):Arab                                                              1\n",
       "Other (Please Specify):Sudanese African                                                  1\n",
       "Other (Please Specify):Dravidian                                                         1\n",
       "Other (Please Specify):Melayu                                                            1\n",
       "Other (Please Specify):Half black and half white                                         1\n",
       "Other (Please Specify):arab                                                              1\n",
       "Other (Please Specify):Asian                                                             1\n",
       "Other (Please Specify):South Indian                                                      1\n",
       "Other (Please Specify):Greek                                                             1\n",
       "Other (Please Specify):Nigeria                                                           1\n",
       "Other (Please Specify):Arab                                                              1\n",
       "Other (Please Specify):Arabian (from Maghreb)                                            1\n",
       "Other (Please Specify):7                                                                 1\n",
       "Other (Please Specify):Bangladeshi                                                       1\n",
       "Other (Please Specify):Egyp                                                              1\n",
       "Other (Please Specify):Russian                                                           1\n",
       "Other (Please Specify):Latino with Italian roots                                         1\n",
       "Other (Please Specify):South Asian                                                       1\n",
       "Other (Please Specify):Kenyan African                                                    1\n",
       "Other (Please Specify):Black African, Zimbabwean Citizen                                 1\n",
       "Other (Please Specify):Human                                                             1\n",
       "Other (Please Specify):Race isn't a thing                                                1\n",
       "Other (Please Specify):Middleeas                                                         1\n",
       "Other (Please Specify):Mixed ( Caucasian / African-American )                            1\n",
       "Other (Please Specify):Half Asian half African                                           1\n",
       "Other (Please Specify):Brown                                                             1\n",
       "Other (Please Specify):Prefer not to ans                                                 1\n",
       "Other (Please Specify):N/A                                                               1\n",
       "Other (Please Specify)                                                                   1\n",
       "Other (Please Specify):Kurdish                                                           1\n",
       "Other (Please Specify):Pakistani                                                         1\n",
       "Other (Please Specify):Malay                                                             1\n",
       "Name: count, dtype: int64"
      ]
     },
     "execution_count": 1142,
     "metadata": {},
     "output_type": "execute_result"
    }
   ],
   "source": [
    "# validate Q13\n",
    "survey['Q13 - Ethnicity'].value_counts()\n",
    "\n",
    "# this column appears to contain race, not ethnicity, so survey responders appear confused"
   ]
  },
  {
   "cell_type": "code",
   "execution_count": 1143,
   "id": "c374b9c4-f4f2-40ac-96c0-64ca9f738639",
   "metadata": {},
   "outputs": [],
   "source": [
    "# rename column to represent race\n",
    "survey = survey.rename(columns={'Q13 - Ethnicity' : 'Q13 - Race'})"
   ]
  },
  {
   "cell_type": "code",
   "execution_count": 1144,
   "id": "e3c24cda-abf8-494b-8a6b-a9bbd0ff5927",
   "metadata": {},
   "outputs": [
    {
     "data": {
      "text/plain": [
       "Q13 - Race\n",
       "White Or Caucasian                                             239\n",
       "Asian Or Asian American                                        155\n",
       "Black Or African American                                      101\n",
       "Hispanic Or Latino                                              73\n",
       "Indian                                                          15\n",
       "African                                                          6\n",
       "American Indian Or Alaska Native                                 4\n",
       "Arab                                                             3\n",
       "Native Hawaiian Or Other Pacific Islander                        2\n",
       "Black African, Zimbabwean Citizen                                1\n",
       "Human                                                            1\n",
       "Arabian (From Maghreb)                                           1\n",
       "Nigeria                                                          1\n",
       "Greek                                                            1\n",
       "South Indian                                                     1\n",
       "Asian                                                            1\n",
       "Dravidian                                                        1\n",
       "Melayu                                                           1\n",
       "Bi-Racial People Should Be Able To Check 2 Options In 2022.      1\n",
       "Latino With Italian Roots                                        1\n",
       "Name: count, dtype: int64"
      ]
     },
     "execution_count": 1144,
     "metadata": {},
     "output_type": "execute_result"
    }
   ],
   "source": [
    "# remove 'Other (Please Specify):' for clarity and ease of transformation (yes, normally I would have made this into a formula by now)\n",
    "survey['Q13 - Race'] = survey['Q13 - Race'].str.replace('Other (Please Specify):', '')\n",
    "\n",
    "# strip blank spaces\n",
    "survey['Q13 - Race'] = survey['Q13 - Race'].str.strip()\n",
    "\n",
    "# standardize to Title Case\n",
    "survey['Q13 - Race'] = survey['Q13 - Race'].str.title()\n",
    "\n",
    "# view updated value counts\n",
    "races = survey['Q13 - Race'].value_counts()[:20]\n",
    "races"
   ]
  },
  {
   "cell_type": "code",
   "execution_count": 1145,
   "id": "cdf431f8-3b49-4c0b-bf7c-10466270c96d",
   "metadata": {},
   "outputs": [
    {
     "data": {
      "text/plain": [
       "Q13 - Race\n",
       "Black Or African American                 101\n",
       "African                                     6\n",
       "Kenyan African                              1\n",
       "Black African, Zimbabwean Citizen           1\n",
       "Mixed ( Caucasian / African-American )      1\n",
       "Half Asian Half African                     1\n",
       "Sudanese African                            1\n",
       "Name: count, dtype: int64"
      ]
     },
     "execution_count": 1145,
     "metadata": {},
     "output_type": "execute_result"
    }
   ],
   "source": [
    "# Containing 'Afr'\n",
    "survey.loc[survey['Q13 - Race'].str.contains('Afr'), 'Q13 - Race'].value_counts()"
   ]
  },
  {
   "cell_type": "code",
   "execution_count": 1146,
   "id": "bad49a57-cebb-4a93-8a52-06836f41acca",
   "metadata": {},
   "outputs": [],
   "source": [
    "white = ['White Or Caucasian']\n",
    "\n",
    "black = ['African',\n",
    "         'Kenyan African',\n",
    "         'Black African, Zimbabwean Citizen',\n",
    "         'Sudanese African',\n",
    "         'Bla',\n",
    "         'Nigeria',\n",
    "         'Black Or African American']\n",
    "\n",
    "asian = ['Asian',\n",
    "         'Asian Or Asian American']\n",
    "\n",
    "indian = ['South Indian']"
   ]
  },
  {
   "cell_type": "code",
   "execution_count": 1147,
   "id": "e6a15ec5-7457-442e-a71a-3eb45896fbc7",
   "metadata": {},
   "outputs": [
    {
     "data": {
      "text/plain": [
       "Q13 - Race\n",
       "White                                                          239\n",
       "Asian                                                          156\n",
       "Black                                                          112\n",
       "Hispanic Or Latino                                              73\n",
       "Indian                                                          16\n",
       "American Indian Or Alaska Native                                 4\n",
       "Arab                                                             3\n",
       "Native Hawaiian Or Other Pacific Islander                        2\n",
       "Moroccan                                                         1\n",
       "Egyp                                                             1\n",
       "Half Black And Half White                                        1\n",
       "7                                                                1\n",
       "Bi-Racial People Should Be Able To Check 2 Options In 2022.      1\n",
       "Pakistani                                                        1\n",
       "Melayu                                                           1\n",
       "Dravidian                                                        1\n",
       "Greek                                                            1\n",
       "Arabian (From Maghreb)                                           1\n",
       "Russian                                                          1\n",
       "Kurdish                                                          1\n",
       "Name: count, dtype: int64"
      ]
     },
     "execution_count": 1147,
     "metadata": {},
     "output_type": "execute_result"
    }
   ],
   "source": [
    "# consolidate race values\n",
    "survey.loc[survey['Q13 - Race'].isin(white), 'Q13 - Race'] = 'White'\n",
    "survey.loc[survey['Q13 - Race'].isin(black), 'Q13 - Race'] = 'Black'\n",
    "survey.loc[survey['Q13 - Race'].isin(asian), 'Q13 - Race'] = 'Asian'\n",
    "survey.loc[survey['Q13 - Race'].isin(indian), 'Q13 - Race'] = 'Indian'\n",
    "\n",
    "# updated value_counts\n",
    "races = survey['Q13 - Race'].value_counts()[:20]\n",
    "races"
   ]
  },
  {
   "cell_type": "code",
   "execution_count": 1148,
   "id": "a06dbc49-7a47-49d8-9010-9358476e0380",
   "metadata": {},
   "outputs": [
    {
     "data": {
      "text/plain": [
       "['White', 'Asian', 'Black', 'Hispanic Or Latino', 'Indian']"
      ]
     },
     "execution_count": 1148,
     "metadata": {},
     "output_type": "execute_result"
    }
   ],
   "source": [
    "# locate races with count >= 10\n",
    "common_races = races.loc[races >= 10].index.to_list()\n",
    "common_races"
   ]
  },
  {
   "cell_type": "code",
   "execution_count": 1149,
   "id": "25198b21-cb97-44df-b4be-f0973b4ba5a9",
   "metadata": {},
   "outputs": [
    {
     "data": {
      "text/plain": [
       "Q13 - Race\n",
       "White                 239\n",
       "Asian                 156\n",
       "Black                 112\n",
       "Hispanic Or Latino     73\n",
       "Other                  34\n",
       "Indian                 16\n",
       "Name: count, dtype: int64"
      ]
     },
     "execution_count": 1149,
     "metadata": {},
     "output_type": "execute_result"
    }
   ],
   "source": [
    "# relegate less-common races to 'Other'\n",
    "survey.loc[~survey['Q13 - Race'].isin(common_races), 'Q13 - Race'] = 'Other'\n",
    "\n",
    "# updated value_counts\n",
    "survey['Q13 - Race'].value_counts()"
   ]
  },
  {
   "cell_type": "code",
   "execution_count": 1202,
   "id": "82f5aa9e-5efd-4963-aa93-f442a7584675",
   "metadata": {},
   "outputs": [
    {
     "name": "stdout",
     "output_type": "stream",
     "text": [
      "<class 'pandas.core.frame.DataFrame'>\n",
      "RangeIndex: 630 entries, 0 to 629\n",
      "Data columns (total 22 columns):\n",
      " #   Column                                                                                        Non-Null Count  Dtype  \n",
      "---  ------                                                                                        --------------  -----  \n",
      " 0   Unique ID                                                                                     630 non-null    object \n",
      " 1   Date Taken (America/New_York)                                                                 630 non-null    object \n",
      " 2   Time Taken (America/New_York)                                                                 630 non-null    object \n",
      " 3   Time Spent                                                                                    630 non-null    object \n",
      " 4   Q1 - Which Title Best Fits your Current Role?                                                 630 non-null    object \n",
      " 5   Q2 - Did you switch careers into Data?                                                        630 non-null    object \n",
      " 6   Q3 - Current Yearly Salary (in USD)                                                           630 non-null    object \n",
      " 7   Q4 - What Industry do you work in?                                                            630 non-null    object \n",
      " 8   Q5 - Favorite Programming Language                                                            630 non-null    object \n",
      " 9   Q6 - How Happy are you in your Current Position with the following? (Salary)                  623 non-null    float64\n",
      " 10  Q6 - How Happy are you in your Current Position with the following? (Work/Life Balance)       620 non-null    float64\n",
      " 11  Q6 - How Happy are you in your Current Position with the following? (Coworkers)               619 non-null    float64\n",
      " 12  Q6 - How Happy are you in your Current Position with the following? (Management)              618 non-null    float64\n",
      " 13  Q6 - How Happy are you in your Current Position with the following? (Upward Mobility)         617 non-null    float64\n",
      " 14  Q6 - How Happy are you in your Current Position with the following? (Learning New Things)     625 non-null    float64\n",
      " 15  Q7 - How difficult was it for you to break into Data?                                         630 non-null    object \n",
      " 16  Q8 - If you were to look for a new job today, what would be the most important thing to you?  630 non-null    object \n",
      " 17  Q9 - Male/Female?                                                                             630 non-null    object \n",
      " 18  Q10 - Current Age                                                                             630 non-null    int64  \n",
      " 19  Q11 - Which Country do you live in?                                                           630 non-null    object \n",
      " 20  Q12 - Highest Level of Education                                                              578 non-null    object \n",
      " 21  Q13 - Race                                                                                    630 non-null    object \n",
      "dtypes: float64(6), int64(1), object(15)\n",
      "memory usage: 108.4+ KB\n"
     ]
    }
   ],
   "source": [
    "# final info\n",
    "survey.info()"
   ]
  }
 ],
 "metadata": {
  "kernelspec": {
   "display_name": "Python 3 (ipykernel)",
   "language": "python",
   "name": "python3"
  },
  "language_info": {
   "codemirror_mode": {
    "name": "ipython",
    "version": 3
   },
   "file_extension": ".py",
   "mimetype": "text/x-python",
   "name": "python",
   "nbconvert_exporter": "python",
   "pygments_lexer": "ipython3",
   "version": "3.11.7"
  }
 },
 "nbformat": 4,
 "nbformat_minor": 5
}
